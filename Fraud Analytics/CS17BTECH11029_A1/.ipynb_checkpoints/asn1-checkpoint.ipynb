{
 "cells": [
  {
   "cell_type": "code",
   "execution_count": 157,
   "metadata": {},
   "outputs": [
    {
     "name": "stdout",
     "output_type": "stream",
     "text": [
      "Eigenvalues : [-1.36349899e-16  3.11621253e-01  4.09692367e-01 ...  1.57698104e+00\n",
      "  1.57953021e+00  1.58339857e+00]\n",
      "No of clusters : 2\n",
      "Clusters: [0 0 0 ... 1 1 1]\n",
      "Number of samples in  2 are : {0: 330, 1: 833}\n"
     ]
    },
    {
     "data": {
      "image/png": "[encoded data removed]",
      "text/plain": [
       "<Figure size 432x288 with 1 Axes>"
      ]
     },
     "metadata": {
      "needs_background": "light"
     },
     "output_type": "display_data"
    }
   ],
   "source": [
    "import matplotlib.pyplot as plt \n",
    "from sklearn import preprocessing\n",
    "import numpy as np\n",
    "import pandas as pd\n",
    "from sklearn.cluster import KMeans\n",
    "\n",
    "\n",
    "\n",
    "# returns adjacency matrix\n",
    "def guassianSimilarity(X,sigma,k):\n",
    "    A = np.zeros((len(X),len(X)))\n",
    "    for i,x in enumerate(X):\n",
    "        for j,y in enumerate(X):\n",
    "            A[i][j] = np.exp(-1*(np.linalg.norm(x-y)**2))/(2*(sigma**2))\n",
    "            if i==j:\n",
    "                A[i][j] =0\n",
    "\n",
    "#  only k most similar elements are considered               \n",
    "    for i in range(len(A)):\n",
    "        idx = np.argsort(-A[i])\n",
    "        for j in range(len(A[0])):\n",
    "            if idx[j]>k :\n",
    "                A[i][j]=0\n",
    "\n",
    "# make graph undirected graph    \n",
    "    for i in range(len(A)):\n",
    "        for j in range(len(A)):\n",
    "            if A[i][j]:\n",
    "                A[j][i]=A[i][j]\n",
    "\n",
    "    return A\n",
    "\n",
    "# create the data\n",
    "df = pd.read_csv('Dataset.csv')\n",
    "X = df.to_numpy()\n",
    "X =  preprocessing.normalize(X)\n",
    "sigma = 1\n",
    "A = guassianSimilarity(X,sigma,k=5)\n",
    "\n",
    " \n",
    "# create the graph laplacian\n",
    "D = np.diag(A.sum(axis=1))    \n",
    "D_sqrt_inv = np.sqrt(np.linalg.inv(D))\n",
    "L = np.matmul(np.matmul(D_sqrt_inv,D-A),D_sqrt_inv)\n",
    "\n",
    "\n",
    "# find the eigenvalues and eigenvectors\n",
    "vals, vecs = np.linalg.eig(L)\n",
    "# sort\n",
    "vecs = vecs[:,np.argsort(vals)]\n",
    "vals = vals[np.argsort(vals)]\n",
    "print('Eigenvalues :',vals)\n",
    "\n",
    "# plot of eigen values\n",
    "plt.ylabel('EigenValues') \n",
    "plt.xlabel('K-values')\n",
    "plt.plot(np.array(vals).tolist(), linestyle='--', marker='o', color='b') \n",
    "\n",
    "#Find out how many clusters are there\n",
    "# index of maximum difference in eigen value \n",
    "# suggest number of clusters\n",
    "cluster=-1\n",
    "maxdiff=0\n",
    "for i in range(1,len(vals)-1):\n",
    "    if vals[i+1]-vals[i]>maxdiff:\n",
    "        maxdiff= vals[i+1]-vals[i]\n",
    "        cluster = i+1\n",
    "print('No of clusters :',cluster)\n",
    "\n",
    "# k-mean clustering of reduced eigen vector sample space\n",
    "kmeans = KMeans(n_clusters=cluster)\n",
    "kmeans.fit(vecs[:,1:cluster])\n",
    "colors = kmeans.labels_\n",
    "print(\"Clusters:\", colors)\n",
    "\n",
    "#counting of samples in each clusters\n",
    "cls = {} \n",
    "for i in colors:\n",
    "    if i in cls.keys():\n",
    "        cls[i]+=1\n",
    "    else :\n",
    "        cls[i]=1\n",
    "print('Number of samples in ',cluster,' clusters are:' ,cls)\n",
    "\n",
    "\n",
    "\n",
    "# For Data set summary \n",
    "# Y = df.to_numpy()\n",
    "# print(np.mean(Y,axis=0))\n",
    "# print(np.var(Y,axis=0))\n",
    "# print(np.std(Y,axis=0))"
   ]
  }
 ],
 "metadata": {
  "kernelspec": {
   "display_name": "Python 3",
   "language": "python",
   "name": "python3"
  },
  "language_info": {
   "codemirror_mode": {
    "name": "ipython",
    "version": 3
   },
   "file_extension": ".py",
   "mimetype": "text/x-python",
   "name": "python",
   "nbconvert_exporter": "python",
   "pygments_lexer": "ipython3",
   "version": "3.6.9"
  }
 },
 "nbformat": 4,
 "nbformat_minor": 4
}
